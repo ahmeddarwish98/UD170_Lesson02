{
 "cells": [
  {
   "cell_type": "code",
   "execution_count": null,
   "id": "f32dc672",
   "metadata": {},
   "outputs": [],
   "source": [
    "import unicodecsv as csv\n",
    "\n",
    "daily_engagement_full = 'E:\\Data Analysis\\data analysis res\\Lesson 2/daily_engagement_full.csv'\n",
    "\n",
    "def read_csv(csvfile):\n",
    "    with open(csvfile, \"rb\") as f:\n",
    "        reader = csv.DictReader(f)\n",
    "        return list(reader)\n",
    "    \n",
    "daily_engagement= read_csv(daily_engagement_full)"
   ]
  },
  {
   "cell_type": "code",
   "execution_count": null,
   "id": "d80d4965",
   "metadata": {},
   "outputs": [],
   "source": [
    "def get_unique_students(data):\n",
    "    unique_students = set()\n",
    "    for data_point in data:\n",
    "        unique_students.add(data_point['acct'])\n",
    "    return unique_students\n",
    "\n",
    "unique_engagement_students = get_unique_students(daily_engagement)\n",
    "len(unique_engagement_students)"
   ]
  },
  {
   "cell_type": "code",
   "execution_count": null,
   "id": "5b9fcbd6",
   "metadata": {},
   "outputs": [],
   "source": [
    "import pandas as pd"
   ]
  },
  {
   "cell_type": "code",
   "execution_count": null,
   "id": "6bd34fdd",
   "metadata": {},
   "outputs": [],
   "source": [
    "daily_engagement = pd.read_csv(daily_engagement_full)"
   ]
  },
  {
   "cell_type": "code",
   "execution_count": null,
   "id": "b6169672",
   "metadata": {},
   "outputs": [],
   "source": [
    "len(daily_engagement['acct'].unique)"
   ]
  }
 ],
 "metadata": {
  "kernelspec": {
   "display_name": "Python 3 (ipykernel)",
   "language": "python",
   "name": "python3"
  },
  "language_info": {
   "codemirror_mode": {
    "name": "ipython",
    "version": 3
   },
   "file_extension": ".py",
   "mimetype": "text/x-python",
   "name": "python",
   "nbconvert_exporter": "python",
   "pygments_lexer": "ipython3",
   "version": "3.9.7"
  }
 },
 "nbformat": 4,
 "nbformat_minor": 5
}
